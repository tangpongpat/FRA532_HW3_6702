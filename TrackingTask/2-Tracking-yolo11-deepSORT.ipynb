{
 "cells": [
  {
   "cell_type": "markdown",
   "id": "548a34b3",
   "metadata": {},
   "source": [
    "# Object Tracking Tutorial\n",
    "===========================\n",
    "<br>In this tutorial, we will learn how to track objects in a video using deepSORT.\n",
    "<br>We will use the YOLOv11 model for object detection and deepSORT for tracking.\n"
   ]
  },
  {
   "cell_type": "markdown",
   "id": "18c50e0c",
   "metadata": {},
   "source": [
    "### Importing Libraries"
   ]
  },
  {
   "cell_type": "code",
   "execution_count": 2,
   "id": "95bf123b",
   "metadata": {},
   "outputs": [],
   "source": [
    "import cv2\n",
    "import os\n",
    "from ultralytics import YOLO\n",
    "from deep_sort_realtime.deepsort_tracker import DeepSort"
   ]
  },
  {
   "cell_type": "markdown",
   "id": "c0022141",
   "metadata": {},
   "source": [
    "### Path to the YOLOv11 model and Output Directory"
   ]
  },
  {
   "cell_type": "code",
   "execution_count": null,
   "id": "ca83ae3a",
   "metadata": {},
   "outputs": [],
   "source": [
    "# Load YOLOv8 model\n",
    "model = YOLO(\"./yolo11n.pt\")\n",
    "\n",
    "# Initialize Deep SORT tracker\n",
    "tracker = DeepSort(max_age=30)\n",
    "\n",
    "# Set input video\n",
    "video_path = \"./home/tang/FRA532_objectdetechtion/video/moose_demo_1.mp4\"\n",
    "cap = cv2.VideoCapture(video_path)\n",
    "\n",
    "# Create output folder\n",
    "output_folder = \"track_output_custom\"\n",
    "os.makedirs(output_folder, exist_ok=True)\n",
    "\n"
   ]
  },
  {
   "cell_type": "markdown",
   "id": "144f33a8",
   "metadata": {},
   "source": [
    "### Processing the Video\n",
    "The class_id for objects in YOLOv11 is as follows:\n",
    "- 0: person\n",
    "- 1: bicycle\n",
    "- 2: car\n",
    "- 3: motorcycle\n",
    "- 4: airplane\n",
    "- 5: bus\n",
    "- 6: train\n",
    "- 7: truck\n",
    "- 8: boat\n",
    "- 9: traffic light\n",
    "- 10: fire hydrant\n",
    "..."
   ]
  },
  {
   "cell_type": "code",
   "execution_count": 4,
   "id": "ba4a6b3f",
   "metadata": {},
   "outputs": [
    {
     "name": "stdout",
     "output_type": "stream",
     "text": [
      "Done. Frames saved to 'track_output_custom/'\n"
     ]
    }
   ],
   "source": [
    "# Set focused classes and confidence threshold\n",
    "focused_classes = 0 # person\n",
    "confidence_threshold = 0.5\n",
    "\n",
    "# Start processing video\n",
    "frame_index = 0\n",
    "while True:\n",
    "    ret, frame = cap.read()\n",
    "    if not ret:\n",
    "        break\n",
    "\n",
    "    # Run YOLO detection\n",
    "    results = model(frame)[0]\n",
    "\n",
    "    detections = []\n",
    "\n",
    "    # Collect only person class detections\n",
    "    for box in results.boxes:\n",
    "        cls_id = int(box.cls[0])\n",
    "        conf = float(box.conf[0])\n",
    "        # Filter the detections based on class ID and confidence\n",
    "        if cls_id == focused_classes and conf > confidence_threshold: \n",
    "\n",
    "            x1, y1, x2, y2 = map(int, box.xyxy[0])\n",
    "            detections.append(([x1, y1, x2 - x1, y2 - y1], conf, 'person'))\n",
    "\n",
    "    # Track using Deep SORT\n",
    "    tracks = tracker.update_tracks(detections, frame=frame)\n",
    "\n",
    "    # Draw results on frame\n",
    "    for track in tracks:\n",
    "        if not track.is_confirmed():\n",
    "            continue\n",
    "        track_id = track.track_id\n",
    "        x1, y1, x2, y2 = map(int, track.to_ltrb())\n",
    "        cv2.rectangle(frame, (x1, y1), (x2, y2), (0, 255, 0), 2)\n",
    "        cv2.putText(frame, f'ID {track_id}', (x1, y1 - 5),\n",
    "                    cv2.FONT_HERSHEY_SIMPLEX, 0.6, (0, 255, 0), 2)\n",
    "\n",
    "    # Save frame to output folder\n",
    "    frame_filename = os.path.join(output_folder, f\"frame_{frame_index:05d}.jpg\")\n",
    "    cv2.imwrite(frame_filename, frame)\n",
    "    frame_index += 1\n",
    "\n",
    "cap.release()\n",
    "print(f\"Done. Frames saved to '{output_folder}/'\")"
   ]
  },
  {
   "cell_type": "code",
   "execution_count": null,
   "id": "934414cb",
   "metadata": {},
   "outputs": [],
   "source": []
  }
 ],
 "metadata": {
  "kernelspec": {
   "display_name": "yolo_env",
   "language": "python",
   "name": "python3"
  },
  "language_info": {
   "codemirror_mode": {
    "name": "ipython",
    "version": 3
   },
   "file_extension": ".py",
   "mimetype": "text/x-python",
   "name": "python",
   "nbconvert_exporter": "python",
   "pygments_lexer": "ipython3",
   "version": "3.10.12"
  }
 },
 "nbformat": 4,
 "nbformat_minor": 5
}
